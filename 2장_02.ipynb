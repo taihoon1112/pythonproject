{
 "cells": [
  {
   "cell_type": "code",
   "execution_count": 1,
   "id": "fa2ee0c9-351f-4b9d-b6f3-637156ce9a2a",
   "metadata": {},
   "outputs": [],
   "source": [
    "import sklearn"
   ]
  },
  {
   "cell_type": "code",
   "execution_count": 2,
   "id": "3f9e416c-6a33-48a7-a50b-dd63ad3330d0",
   "metadata": {},
   "outputs": [
    {
     "data": {
      "text/plain": [
       "'0.24.2'"
      ]
     },
     "execution_count": 2,
     "metadata": {},
     "output_type": "execute_result"
    }
   ],
   "source": [
    "sklearn.__version__ "
   ]
  },
  {
   "cell_type": "code",
   "execution_count": 4,
   "id": "dd7dea73-e2f6-4152-800a-29ddb84c04ab",
   "metadata": {},
   "outputs": [],
   "source": [
    "from sklearn.datasets import load_iris"
   ]
  },
  {
   "cell_type": "code",
   "execution_count": 5,
   "id": "c7ab72dd-6fcd-4ba5-9c99-f6d0ab02ca99",
   "metadata": {},
   "outputs": [],
   "source": [
    "from sklearn.tree import DecisionTreeClassifier\n",
    "from sklearn.model_selection import train_test_split"
   ]
  },
  {
   "cell_type": "code",
   "execution_count": 6,
   "id": "ccf10bc7-01fe-4728-91d9-94f3b3c41ed7",
   "metadata": {},
   "outputs": [],
   "source": [
    "import pandas as pd"
   ]
  },
  {
   "cell_type": "code",
   "execution_count": 17,
   "id": "51b9dbb2-2305-4126-82a9-fac1111a8a4d",
   "metadata": {},
   "outputs": [],
   "source": [
    "iris = load_iris(as_frame = True)"
   ]
  },
  {
   "cell_type": "code",
   "execution_count": 18,
   "id": "fb2ff56c-0289-43b7-8750-4c1fcdc4e332",
   "metadata": {},
   "outputs": [
    {
     "data": {
      "text/plain": [
       "sklearn.utils.Bunch"
      ]
     },
     "execution_count": 18,
     "metadata": {},
     "output_type": "execute_result"
    }
   ],
   "source": [
    "type(iris)"
   ]
  },
  {
   "cell_type": "code",
   "execution_count": 19,
   "id": "10110225-3aad-423a-927a-322eaa622a88",
   "metadata": {},
   "outputs": [
    {
     "data": {
      "text/plain": [
       "dict_keys(['data', 'target', 'frame', 'target_names', 'DESCR', 'feature_names', 'filename'])"
      ]
     },
     "execution_count": 19,
     "metadata": {},
     "output_type": "execute_result"
    }
   ],
   "source": [
    "iris.keys()"
   ]
  },
  {
   "cell_type": "code",
   "execution_count": 23,
   "id": "ad27194f-7b04-4282-9c67-3f5bb1de6b8e",
   "metadata": {},
   "outputs": [],
   "source": [
    "iris_df = iris[\"data\"]"
   ]
  },
  {
   "cell_type": "code",
   "execution_count": 25,
   "id": "34f04352-7247-4dcb-94fc-ddf5b8089ef2",
   "metadata": {},
   "outputs": [],
   "source": [
    "iris_target = iris.target"
   ]
  },
  {
   "cell_type": "code",
   "execution_count": 22,
   "id": "776ab1d0-5ad8-4324-b7e2-0372964bd3d7",
   "metadata": {},
   "outputs": [
    {
     "data": {
      "text/plain": [
       "array(['setosa', 'versicolor', 'virginica'], dtype='<U10')"
      ]
     },
     "execution_count": 22,
     "metadata": {},
     "output_type": "execute_result"
    }
   ],
   "source": [
    "iris.target_names"
   ]
  },
  {
   "cell_type": "code",
   "execution_count": 52,
   "id": "986b411a-1426-4311-9a2b-58a4700442ea",
   "metadata": {},
   "outputs": [],
   "source": [
    "X_train,X_test,y_train,y_test = train_test_split(iris.data,\n",
    "                                                 iris.target,\n",
    "                                                 test_size=0.2)"
   ]
  },
  {
   "cell_type": "code",
   "execution_count": 53,
   "id": "6031258c-9e6e-4347-9495-092b0ef76aab",
   "metadata": {
    "tags": []
   },
   "outputs": [
    {
     "data": {
      "text/plain": [
       "(     sepal length (cm)  sepal width (cm)  petal length (cm)  petal width (cm)\n",
       " 53                 5.5               2.3                4.0               1.3\n",
       " 23                 5.1               3.3                1.7               0.5\n",
       " 123                6.3               2.7                4.9               1.8\n",
       " 18                 5.7               3.8                1.7               0.3\n",
       " 4                  5.0               3.6                1.4               0.2\n",
       " ..                 ...               ...                ...               ...\n",
       " 11                 4.8               3.4                1.6               0.2\n",
       " 75                 6.6               3.0                4.4               1.4\n",
       " 84                 5.4               3.0                4.5               1.5\n",
       " 33                 5.5               4.2                1.4               0.2\n",
       " 55                 5.7               2.8                4.5               1.3\n",
       " \n",
       " [120 rows x 4 columns],\n",
       "      sepal length (cm)  sepal width (cm)  petal length (cm)  petal width (cm)\n",
       " 118                7.7               2.6                6.9               2.3\n",
       " 7                  5.0               3.4                1.5               0.2\n",
       " 105                7.6               3.0                6.6               2.1\n",
       " 113                5.7               2.5                5.0               2.0\n",
       " 138                6.0               3.0                4.8               1.8\n",
       " 43                 5.0               3.5                1.6               0.6\n",
       " 131                7.9               3.8                6.4               2.0\n",
       " 20                 5.4               3.4                1.7               0.2\n",
       " 66                 5.6               3.0                4.5               1.5\n",
       " 95                 5.7               3.0                4.2               1.2\n",
       " 19                 5.1               3.8                1.5               0.3\n",
       " 62                 6.0               2.2                4.0               1.0\n",
       " 92                 5.8               2.6                4.0               1.2\n",
       " 25                 5.0               3.0                1.6               0.2\n",
       " 96                 5.7               2.9                4.2               1.3\n",
       " 48                 5.3               3.7                1.5               0.2\n",
       " 121                5.6               2.8                4.9               2.0\n",
       " 45                 4.8               3.0                1.4               0.3\n",
       " 148                6.2               3.4                5.4               2.3\n",
       " 102                7.1               3.0                5.9               2.1\n",
       " 120                6.9               3.2                5.7               2.3\n",
       " 93                 5.0               2.3                3.3               1.0\n",
       " 103                6.3               2.9                5.6               1.8\n",
       " 3                  4.6               3.1                1.5               0.2\n",
       " 56                 6.3               3.3                4.7               1.6\n",
       " 80                 5.5               2.4                3.8               1.1\n",
       " 12                 4.8               3.0                1.4               0.1\n",
       " 47                 4.6               3.2                1.4               0.2\n",
       " 117                7.7               3.8                6.7               2.2\n",
       " 116                6.5               3.0                5.5               1.8,\n",
       " 53     1\n",
       " 23     0\n",
       " 123    2\n",
       " 18     0\n",
       " 4      0\n",
       "       ..\n",
       " 11     0\n",
       " 75     1\n",
       " 84     1\n",
       " 33     0\n",
       " 55     1\n",
       " Name: target, Length: 120, dtype: int32,\n",
       " 118    2\n",
       " 7      0\n",
       " 105    2\n",
       " 113    2\n",
       " 138    2\n",
       " 43     0\n",
       " 131    2\n",
       " 20     0\n",
       " 66     1\n",
       " 95     1\n",
       " 19     0\n",
       " 62     1\n",
       " 92     1\n",
       " 25     0\n",
       " 96     1\n",
       " 48     0\n",
       " 121    2\n",
       " 45     0\n",
       " 148    2\n",
       " 102    2\n",
       " 120    2\n",
       " 93     1\n",
       " 103    2\n",
       " 3      0\n",
       " 56     1\n",
       " 80     1\n",
       " 12     0\n",
       " 47     0\n",
       " 117    2\n",
       " 116    2\n",
       " Name: target, dtype: int32)"
      ]
     },
     "execution_count": 53,
     "metadata": {},
     "output_type": "execute_result"
    }
   ],
   "source": [
    "X_train,X_test,y_train,y_test"
   ]
  },
  {
   "cell_type": "code",
   "execution_count": 54,
   "id": "19bd91d0-6534-434f-9318-218a42a04b6d",
   "metadata": {},
   "outputs": [
    {
     "data": {
      "text/plain": [
       "pandas.core.frame.DataFrame"
      ]
     },
     "execution_count": 54,
     "metadata": {},
     "output_type": "execute_result"
    }
   ],
   "source": [
    "type(X_train)"
   ]
  },
  {
   "cell_type": "code",
   "execution_count": 55,
   "id": "ff5538c7-e046-40ec-ae36-4c94159e2cac",
   "metadata": {},
   "outputs": [],
   "source": [
    "dt_clf = DecisionTreeClassifier(random_state = 11)"
   ]
  },
  {
   "cell_type": "code",
   "execution_count": 56,
   "id": "66ff6d6e-89cb-460d-83e2-30afa4d0ba9e",
   "metadata": {},
   "outputs": [
    {
     "data": {
      "text/plain": [
       "DecisionTreeClassifier(random_state=11)"
      ]
     },
     "execution_count": 56,
     "metadata": {},
     "output_type": "execute_result"
    }
   ],
   "source": [
    "dt_clf.fit(X_train,y_train)          # fit = 학습."
   ]
  },
  {
   "cell_type": "code",
   "execution_count": 57,
   "id": "c19f693b-2442-4a1f-9324-3c71f86585e4",
   "metadata": {},
   "outputs": [],
   "source": [
    "pred = dt_clf.predict(X_test)"
   ]
  },
  {
   "cell_type": "code",
   "execution_count": 58,
   "id": "1286da62-d062-412c-a069-10221f5f18ce",
   "metadata": {},
   "outputs": [
    {
     "data": {
      "text/plain": [
       "array([2, 0, 2, 2, 1, 0, 2, 0, 1, 1, 0, 1, 1, 0, 1, 0, 2, 0, 2, 2, 2, 1,\n",
       "       2, 0, 1, 1, 0, 0, 2, 2])"
      ]
     },
     "execution_count": 58,
     "metadata": {},
     "output_type": "execute_result"
    }
   ],
   "source": [
    "pred"
   ]
  },
  {
   "cell_type": "code",
   "execution_count": 59,
   "id": "438dad7b-9d87-42f9-aa31-caefd68cc264",
   "metadata": {
    "collapsed": true,
    "jupyter": {
     "outputs_hidden": true
    },
    "tags": []
   },
   "outputs": [
    {
     "data": {
      "text/plain": [
       "118    2\n",
       "7      0\n",
       "105    2\n",
       "113    2\n",
       "138    2\n",
       "43     0\n",
       "131    2\n",
       "20     0\n",
       "66     1\n",
       "95     1\n",
       "19     0\n",
       "62     1\n",
       "92     1\n",
       "25     0\n",
       "96     1\n",
       "48     0\n",
       "121    2\n",
       "45     0\n",
       "148    2\n",
       "102    2\n",
       "120    2\n",
       "93     1\n",
       "103    2\n",
       "3      0\n",
       "56     1\n",
       "80     1\n",
       "12     0\n",
       "47     0\n",
       "117    2\n",
       "116    2\n",
       "Name: target, dtype: int32"
      ]
     },
     "execution_count": 59,
     "metadata": {},
     "output_type": "execute_result"
    }
   ],
   "source": [
    "y_test"
   ]
  },
  {
   "cell_type": "code",
   "execution_count": 60,
   "id": "e7f8590e-da83-4bed-a317-38c9c87d7550",
   "metadata": {},
   "outputs": [],
   "source": [
    "from sklearn.metrics import accuracy_score"
   ]
  },
  {
   "cell_type": "code",
   "execution_count": 61,
   "id": "02639da0-57f0-41cb-8b8a-12b176618bf2",
   "metadata": {},
   "outputs": [
    {
     "data": {
      "text/plain": [
       "0.9666666666666667"
      ]
     },
     "execution_count": 61,
     "metadata": {},
     "output_type": "execute_result"
    }
   ],
   "source": [
    "accuracy_score(y_test,pred)"
   ]
  },
  {
   "cell_type": "code",
   "execution_count": 64,
   "id": "f77ef6af-cce6-4fe6-b07d-c52e0d3332ab",
   "metadata": {},
   "outputs": [],
   "source": [
    "def test1(a,b):\n",
    "    '''\n",
    "    이 함수는 결과값이 3개로 나갑니다.\n",
    "    '''\n",
    "    return a+b, a-b, a*b"
   ]
  },
  {
   "cell_type": "code",
   "execution_count": 63,
   "id": "14c7ec86-998a-4b13-a97f-6c549f550c2e",
   "metadata": {},
   "outputs": [
    {
     "ename": "NameError",
     "evalue": "name 'test1' is not defined",
     "output_type": "error",
     "traceback": [
      "\u001b[1;31m---------------------------------------------------------------------------\u001b[0m",
      "\u001b[1;31mNameError\u001b[0m                                 Traceback (most recent call last)",
      "\u001b[1;32mC:\\Users\\SEUNGJ~1\\AppData\\Local\\Temp/ipykernel_13868/1773485589.py\u001b[0m in \u001b[0;36m<module>\u001b[1;34m\u001b[0m\n\u001b[1;32m----> 1\u001b[1;33m \u001b[0mtest1\u001b[0m\u001b[1;33m(\u001b[0m\u001b[1;33m)\u001b[0m\u001b[1;33m\u001b[0m\u001b[1;33m\u001b[0m\u001b[0m\n\u001b[0m",
      "\u001b[1;31mNameError\u001b[0m: name 'test1' is not defined"
     ]
    }
   ],
   "source": [
    "test1()"
   ]
  },
  {
   "cell_type": "code",
   "execution_count": 65,
   "id": "bcdfe179-6c11-4724-9ab4-54926c703f0c",
   "metadata": {},
   "outputs": [],
   "source": [
    "result = test1(1,2)"
   ]
  },
  {
   "cell_type": "markdown",
   "id": "256bf937-e433-438c-a3a1-b3ad034ab9bd",
   "metadata": {},
   "source": [
    "# 과적합 참조\n",
    "![과적합](과적합.png)"
   ]
  },
  {
   "cell_type": "markdown",
   "id": "442967b5-5967-4c1e-bc77-e959b3709b8a",
   "metadata": {},
   "source": [
    "```\n",
    "print('hello')\n",
    "```"
   ]
  },
  {
   "cell_type": "code",
   "execution_count": 66,
   "id": "8da5e2c5-a5fa-4a74-893e-de7b23550dd8",
   "metadata": {},
   "outputs": [],
   "source": [
    "from sklearn.tree import DecisionTreeClassifier\n",
    "from sklearn.metrics import accuracy_score\n",
    "from sklearn.model_selection import KFold\n",
    "import numpy as np"
   ]
  },
  {
   "cell_type": "code",
   "execution_count": 67,
   "id": "8786bd2a-b3f2-449b-8f2d-24c2cdcb9895",
   "metadata": {},
   "outputs": [],
   "source": [
    "iris = load_iris()\n",
    "dt_clf = DecisionTreeClassifier(random_state = 156)"
   ]
  },
  {
   "cell_type": "code",
   "execution_count": 84,
   "id": "1243867e-36ed-4858-8a34-7c70df3cad87",
   "metadata": {},
   "outputs": [],
   "source": [
    "kfold = KFold(n_splits = 5, shuffle = True)"
   ]
  },
  {
   "cell_type": "code",
   "execution_count": 85,
   "id": "f158250a-2024-47e5-8802-93e04e11ba46",
   "metadata": {},
   "outputs": [],
   "source": [
    "cv_accuracy=[]"
   ]
  },
  {
   "cell_type": "code",
   "execution_count": 86,
   "id": "7fa5ed39-8d7f-4dfb-9c59-e71e7b73a218",
   "metadata": {},
   "outputs": [
    {
     "data": {
      "text/plain": [
       "(150, 4)"
      ]
     },
     "execution_count": 86,
     "metadata": {},
     "output_type": "execute_result"
    }
   ],
   "source": [
    "iris.data.shape"
   ]
  },
  {
   "cell_type": "code",
   "execution_count": 87,
   "id": "cf52310b-8466-4e6e-920b-7872c7d8a867",
   "metadata": {
    "collapsed": true,
    "jupyter": {
     "outputs_hidden": true
    },
    "tags": []
   },
   "outputs": [
    {
     "name": "stdout",
     "output_type": "stream",
     "text": [
      "[  0   1   2   3   5   6   9  12  13  14  16  17  18  19  20  21  22  23\n",
      "  25  26  27  28  29  30  31  32  35  36  37  38  39  40  42  43  44  45\n",
      "  49  50  51  52  54  55  57  58  59  60  61  62  63  64  65  68  69  71\n",
      "  72  73  74  75  76  77  78  79  80  82  83  84  85  86  88  89  91  92\n",
      "  93  94  95  96  98  99 100 101 102 103 104 105 107 109 110 111 112 113\n",
      " 114 115 116 118 120 121 122 123 125 127 128 129 130 131 132 133 134 135\n",
      " 136 137 138 139 140 141 142 143 145 146 148 149]\n",
      "--------------------------------------------------\n",
      "[  4   7   8  10  11  15  24  33  34  41  46  47  48  53  56  66  67  70\n",
      "  81  87  90  97 106 108 117 119 124 126 144 147]\n",
      "\n",
      "1번째 교차검증\n",
      "학습데이터 건수 :120, 검증데이터 건수:30\n",
      "정확도:0.9\n",
      "[  1   2   4   6   7   8  10  11  12  14  15  16  17  18  19  20  22  23\n",
      "  24  26  27  29  30  31  33  34  35  36  37  39  40  41  43  44  45  46\n",
      "  47  48  50  51  53  54  55  56  57  58  59  61  62  63  64  65  66  67\n",
      "  69  70  71  72  73  74  77  78  79  80  81  82  83  85  86  87  88  89\n",
      "  90  91  92  94  96  97  98 100 102 103 104 105 106 107 108 109 110 111\n",
      " 112 114 115 116 117 118 119 120 121 122 123 124 125 126 127 128 129 130\n",
      " 131 132 133 134 135 136 137 139 142 144 145 147]\n",
      "--------------------------------------------------\n",
      "[  0   3   5   9  13  21  25  28  32  38  42  49  52  60  68  75  76  84\n",
      "  93  95  99 101 113 138 140 141 143 146 148 149]\n",
      "\n",
      "2번째 교차검증\n",
      "학습데이터 건수 :120, 검증데이터 건수:30\n",
      "정확도:0.9666666666666667\n",
      "[  0   1   3   4   5   7   8   9  10  11  12  13  14  15  16  17  19  21\n",
      "  24  25  26  27  28  29  30  32  33  34  37  38  39  41  42  43  45  46\n",
      "  47  48  49  50  52  53  54  55  56  58  59  60  61  62  64  65  66  67\n",
      "  68  69  70  71  72  75  76  77  78  79  81  82  84  85  86  87  88  89\n",
      "  90  92  93  94  95  96  97  98  99 101 103 106 108 109 110 112 113 114\n",
      " 115 116 117 118 119 120 121 122 123 124 125 126 128 129 130 131 132 134\n",
      " 135 137 138 140 141 143 144 145 146 147 148 149]\n",
      "--------------------------------------------------\n",
      "[  2   6  18  20  22  23  31  35  36  40  44  51  57  63  73  74  80  83\n",
      "  91 100 102 104 105 107 111 127 133 136 139 142]\n",
      "\n",
      "3번째 교차검증\n",
      "학습데이터 건수 :120, 검증데이터 건수:30\n",
      "정확도:0.9333333333333333\n",
      "[  0   1   2   3   4   5   6   7   8   9  10  11  13  15  17  18  20  21\n",
      "  22  23  24  25  28  29  30  31  32  33  34  35  36  37  38  40  41  42\n",
      "  43  44  46  47  48  49  50  51  52  53  54  55  56  57  60  63  65  66\n",
      "  67  68  70  71  73  74  75  76  78  80  81  83  84  86  87  88  90  91\n",
      "  92  93  94  95  97  98  99 100 101 102 104 105 106 107 108 110 111 112\n",
      " 113 114 115 117 119 121 122 123 124 125 126 127 129 130 132 133 136 137\n",
      " 138 139 140 141 142 143 144 145 146 147 148 149]\n",
      "--------------------------------------------------\n",
      "[ 12  14  16  19  26  27  39  45  58  59  61  62  64  69  72  77  79  82\n",
      "  85  89  96 103 109 116 118 120 128 131 134 135]\n",
      "\n",
      "4번째 교차검증\n",
      "학습데이터 건수 :120, 검증데이터 건수:30\n",
      "정확도:0.9333333333333333\n",
      "[  0   2   3   4   5   6   7   8   9  10  11  12  13  14  15  16  18  19\n",
      "  20  21  22  23  24  25  26  27  28  31  32  33  34  35  36  38  39  40\n",
      "  41  42  44  45  46  47  48  49  51  52  53  56  57  58  59  60  61  62\n",
      "  63  64  66  67  68  69  70  72  73  74  75  76  77  79  80  81  82  83\n",
      "  84  85  87  89  90  91  93  95  96  97  99 100 101 102 103 104 105 106\n",
      " 107 108 109 111 113 116 117 118 119 120 124 126 127 128 131 133 134 135\n",
      " 136 138 139 140 141 142 143 144 146 147 148 149]\n",
      "--------------------------------------------------\n",
      "[  1  17  29  30  37  43  50  54  55  65  71  78  86  88  92  94  98 110\n",
      " 112 114 115 121 122 123 125 129 130 132 137 145]\n",
      "\n",
      "5번째 교차검증\n",
      "학습데이터 건수 :120, 검증데이터 건수:30\n",
      "정확도:0.9666666666666667\n",
      "0.9400000000000001\n"
     ]
    }
   ],
   "source": [
    "kfold = KFold(n_splits = 5, shuffle = True)\n",
    "n_iter = 0\n",
    "for train_index, test_index in kfold.split(iris.data):\n",
    "    print(train_index)\n",
    "    print('-'*50)\n",
    "    print(test_index)\n",
    "    print()\n",
    "    X_train, X_test = iris.data[train_index], iris.data[test_index]\n",
    "   # print(X_train, X_test)\n",
    "    y_train,y_test = iris.target[train_index], iris.target[test_index]\n",
    "    dt_clf.fit(X_train,y_train)\n",
    "    pred = dt_clf.predict(X_test)\n",
    "    accuracy = accuracy_score(y_test, pred)\n",
    "    cv_accuracy.append(accuracy)\n",
    "    n_iter +=1\n",
    "    print(f'{n_iter}번째 교차검증')\n",
    "    print(f'학습데이터 건수 :{X_train.shape[0]}, 검증데이터 건수:{X_test.shape[0]}')\n",
    "    print(f'정확도:{accuracy}')\n",
    "print(np.mean(cv_accuracy))"
   ]
  },
  {
   "cell_type": "code",
   "execution_count": 102,
   "id": "892e67e4-4b93-4152-976d-20afcce99194",
   "metadata": {
    "collapsed": true,
    "jupyter": {
     "outputs_hidden": true
    },
    "tags": []
   },
   "outputs": [
    {
     "name": "stdout",
     "output_type": "stream",
     "text": [
      "[  0   2   3   4   5   6   8   9  10  13  14  15  16  17  19  20  21  22\n",
      "  23  24  25  26  27  31  32  33  34  35  38  39  40  41  42  43  44  45\n",
      "  46  47  48  49  50  51  52  53  54  55  56  57  58  60  61  62  64  67\n",
      "  68  69  70  71  74  75  76  77  78  79  80  82  83  84  86  87  88  90\n",
      "  91  92  93  94  95  96  97  98  99 101 102 103 104 105 107 108 109 110\n",
      " 112 113 114 115 116 117 120 121 122 123 126 127 128 129 133 134 135 136\n",
      " 137 138 140 141 142 143 144 145 146 147 148 149]\n",
      "--------------------------------------------------\n",
      "[  1   7  11  12  18  28  29  30  36  37  59  63  65  66  72  73  81  85\n",
      "  89 100 106 111 118 119 124 125 130 131 132 139]\n",
      "\n",
      "1번째 교차검증\n",
      "학습데이터 건수 :120, 검증데이터 건수:30\n",
      "정확도:0.9333333333333333\n",
      "[  1   2   4   6   7   8   9  11  12  13  14  16  17  18  19  20  22  23\n",
      "  26  27  28  29  30  31  32  33  34  35  36  37  38  39  40  43  44  45\n",
      "  48  49  50  54  55  56  57  58  59  60  62  63  64  65  66  68  71  72\n",
      "  73  74  75  76  77  78  80  81  82  83  84  85  86  87  88  89  90  91\n",
      "  93  94  95  96  98 100 102 103 104 105 106 107 108 109 111 112 114 115\n",
      " 117 118 119 120 121 122 123 124 125 126 127 128 129 130 131 132 133 134\n",
      " 136 138 139 141 142 143 144 145 146 147 148 149]\n",
      "--------------------------------------------------\n",
      "[  0   3   5  10  15  21  24  25  41  42  46  47  51  52  53  61  67  69\n",
      "  70  79  92  97  99 101 110 113 116 135 137 140]\n",
      "\n",
      "2번째 교차검증\n",
      "학습데이터 건수 :120, 검증데이터 건수:30\n",
      "정확도:0.9666666666666667\n",
      "[  0   1   2   3   4   5   6   7   8   9  10  11  12  13  15  16  18  19\n",
      "  21  22  24  25  26  28  29  30  31  33  34  36  37  39  40  41  42  43\n",
      "  44  45  46  47  49  51  52  53  54  56  57  59  60  61  62  63  64  65\n",
      "  66  67  68  69  70  71  72  73  74  76  77  79  81  82  83  84  85  86\n",
      "  89  90  92  93  94  95  96  97  99 100 101 102 103 106 107 108 110 111\n",
      " 113 115 116 117 118 119 120 121 123 124 125 126 128 129 130 131 132 133\n",
      " 135 136 137 138 139 140 141 142 143 145 147 149]\n",
      "--------------------------------------------------\n",
      "[ 14  17  20  23  27  32  35  38  48  50  55  58  75  78  80  87  88  91\n",
      "  98 104 105 109 112 114 122 127 134 144 146 148]\n",
      "\n",
      "3번째 교차검증\n",
      "학습데이터 건수 :120, 검증데이터 건수:30\n",
      "정확도:1.0\n",
      "[  0   1   2   3   4   5   6   7   8   9  10  11  12  13  14  15  17  18\n",
      "  20  21  23  24  25  27  28  29  30  31  32  33  35  36  37  38  39  41\n",
      "  42  45  46  47  48  49  50  51  52  53  55  57  58  59  60  61  63  64\n",
      "  65  66  67  68  69  70  72  73  75  77  78  79  80  81  82  85  86  87\n",
      "  88  89  90  91  92  93  94  95  96  97  98  99 100 101 102 104 105 106\n",
      " 109 110 111 112 113 114 116 117 118 119 122 124 125 126 127 130 131 132\n",
      " 133 134 135 137 139 140 143 144 145 146 148 149]\n",
      "--------------------------------------------------\n",
      "[ 16  19  22  26  34  40  43  44  54  56  62  71  74  76  83  84 103 107\n",
      " 108 115 120 121 123 128 129 136 138 141 142 147]\n",
      "\n",
      "4번째 교차검증\n",
      "학습데이터 건수 :120, 검증데이터 건수:30\n",
      "정확도:0.9666666666666667\n",
      "[  0   1   3   5   7  10  11  12  14  15  16  17  18  19  20  21  22  23\n",
      "  24  25  26  27  28  29  30  32  34  35  36  37  38  40  41  42  43  44\n",
      "  46  47  48  50  51  52  53  54  55  56  58  59  61  62  63  65  66  67\n",
      "  69  70  71  72  73  74  75  76  78  79  80  81  83  84  85  87  88  89\n",
      "  91  92  97  98  99 100 101 103 104 105 106 107 108 109 110 111 112 113\n",
      " 114 115 116 118 119 120 121 122 123 124 125 127 128 129 130 131 132 134\n",
      " 135 136 137 138 139 140 141 142 144 146 147 148]\n",
      "--------------------------------------------------\n",
      "[  2   4   6   8   9  13  31  33  39  45  49  57  60  64  68  77  82  86\n",
      "  90  93  94  95  96 102 117 126 133 143 145 149]\n",
      "\n",
      "5번째 교차검증\n",
      "학습데이터 건수 :120, 검증데이터 건수:30\n",
      "정확도:0.9666666666666667\n",
      "0.9666666666666666\n"
     ]
    }
   ],
   "source": [
    "skfold = StratifiedKFold(n_splits = 5, shuffle = False) # 교차검증을 할 때 활용\n",
    "n_iter = 0\n",
    "for train_index, test_index in kfold.split(iris.data, iris.target):\n",
    "    print(train_index)\n",
    "    print('-'*50)\n",
    "    print(test_index)\n",
    "    print()\n",
    "    X_train, X_test = iris.data[train_index], iris.data[test_index]\n",
    "   # print(X_train, X_test)\n",
    "    y_train,y_test = iris.target[train_index], iris.target[test_index]\n",
    "    dt_clf.fit(X_train,y_train)\n",
    "    pred = dt_clf.predict(X_test)\n",
    "    accuracy = accuracy_score(y_test, pred)\n",
    "    cv_accuracy.append(accuracy)\n",
    "    n_iter +=1\n",
    "    print(f'{n_iter}번째 교차검증')\n",
    "    print(f'학습데이터 건수 :{X_train.shape[0]}, 검증데이터 건수:{X_test.shape[0]}')\n",
    "    print(f'정확도:{accuracy}')\n",
    "print(np.mean(cv_accuracy))"
   ]
  },
  {
   "cell_type": "code",
   "execution_count": 98,
   "id": "d70ff108-f343-4825-a9a4-e8b6b3e7efe4",
   "metadata": {
    "tags": []
   },
   "outputs": [
    {
     "name": "stdout",
     "output_type": "stream",
     "text": [
      "학습용데이터 분포:\n",
      " 0    40\n",
      "1    40\n",
      "2    40\n",
      "dtype: int64\n",
      "검증용데이터 분포:\n",
      " 0    10\n",
      "1    10\n",
      "2    10\n",
      "dtype: int64\n",
      "학습용데이터 분포:\n",
      " 0    42\n",
      "2    40\n",
      "1    38\n",
      "dtype: int64\n",
      "검증용데이터 분포:\n",
      " 1    12\n",
      "2    10\n",
      "0     8\n",
      "dtype: int64\n",
      "학습용데이터 분포:\n",
      " 1    44\n",
      "0    38\n",
      "2    38\n",
      "dtype: int64\n",
      "검증용데이터 분포:\n",
      " 0    12\n",
      "2    12\n",
      "1     6\n",
      "dtype: int64\n",
      "학습용데이터 분포:\n",
      " 2    43\n",
      "1    39\n",
      "0    38\n",
      "dtype: int64\n",
      "검증용데이터 분포:\n",
      " 0    12\n",
      "1    11\n",
      "2     7\n",
      "dtype: int64\n",
      "학습용데이터 분포:\n",
      " 0    42\n",
      "1    39\n",
      "2    39\n",
      "dtype: int64\n",
      "검증용데이터 분포:\n",
      " 1    11\n",
      "2    11\n",
      "0     8\n",
      "dtype: int64\n"
     ]
    }
   ],
   "source": [
    "kfold = KFold(n_splits = 5, shuffle = True)\n",
    "n_iter = 0\n",
    "cv_accuracy=[]\n",
    "for train_index, test_index in kfold.split(iris.data):\n",
    "    X_train, X_test = iris.data[train_index], iris.data[test_index]\n",
    "    y_train,y_test = iris.target[train_index], iris.target[test_index]\n",
    "    #print(type(pd.Series(y_train)))\n",
    "    print('학습용데이터 분포:\\n',pd.Series(y_train).value_counts())\n",
    "    print('검증용데이터 분포:\\n',pd.Series(y_test).value_counts())"
   ]
  },
  {
   "cell_type": "code",
   "execution_count": 99,
   "id": "9d13141a-dab5-45d4-9d3c-440aba13779f",
   "metadata": {},
   "outputs": [],
   "source": [
    "from sklearn.model_selection import StratifiedKFold               # 비율에 따라 분리."
   ]
  },
  {
   "cell_type": "code",
   "execution_count": 100,
   "id": "2a134744-deb9-4e37-a28b-ea183a9a7a09",
   "metadata": {
    "tags": []
   },
   "outputs": [
    {
     "name": "stdout",
     "output_type": "stream",
     "text": [
      "학습용데이터 분포:\n",
      " 0    40\n",
      "1    40\n",
      "2    40\n",
      "dtype: int64\n",
      "검증용데이터 분포:\n",
      " 0    10\n",
      "1    10\n",
      "2    10\n",
      "dtype: int64\n",
      "학습용데이터 분포:\n",
      " 0    40\n",
      "1    40\n",
      "2    40\n",
      "dtype: int64\n",
      "검증용데이터 분포:\n",
      " 0    10\n",
      "1    10\n",
      "2    10\n",
      "dtype: int64\n",
      "학습용데이터 분포:\n",
      " 0    40\n",
      "1    40\n",
      "2    40\n",
      "dtype: int64\n",
      "검증용데이터 분포:\n",
      " 0    10\n",
      "1    10\n",
      "2    10\n",
      "dtype: int64\n",
      "학습용데이터 분포:\n",
      " 0    40\n",
      "1    40\n",
      "2    40\n",
      "dtype: int64\n",
      "검증용데이터 분포:\n",
      " 0    10\n",
      "1    10\n",
      "2    10\n",
      "dtype: int64\n",
      "학습용데이터 분포:\n",
      " 0    40\n",
      "1    40\n",
      "2    40\n",
      "dtype: int64\n",
      "검증용데이터 분포:\n",
      " 0    10\n",
      "1    10\n",
      "2    10\n",
      "dtype: int64\n"
     ]
    }
   ],
   "source": [
    "skfold = StratifiedKFold(n_splits = 5, shuffle = False)             # 셔플을 false하고 비율에 따라 분리했다.\n",
    "n_iter = 0\n",
    "cv_accuracy=[]\n",
    "for train_index, test_index in skfold.split(iris.data, iris.target): # iris.target의 비율을 보고 나누는 것.\n",
    "    X_train, X_test = iris.data[train_index], iris.data[test_index]\n",
    "    y_train,y_test = iris.target[train_index], iris.target[test_index]\n",
    "     #print(type(pd.Series(y_train)))\n",
    "    print('학습용데이터 분포:\\n',pd.Series(y_train).value_counts())\n",
    "    print('검증용데이터 분포:\\n',pd.Series(y_test).value_counts())"
   ]
  },
  {
   "cell_type": "code",
   "execution_count": 101,
   "id": "48cc33ba-6b82-4b31-b05a-b4b5a08bcde1",
   "metadata": {
    "collapsed": true,
    "jupyter": {
     "outputs_hidden": true
    },
    "tags": []
   },
   "outputs": [
    {
     "name": "stdout",
     "output_type": "stream",
     "text": [
      "학습용데이터 분포:\n",
      " 0    40\n",
      "1    40\n",
      "2    40\n",
      "dtype: int64\n",
      "검증용데이터 분포:\n",
      " 0    10\n",
      "1    10\n",
      "2    10\n",
      "dtype: int64\n",
      "학습용데이터 분포:\n",
      " 0    40\n",
      "1    40\n",
      "2    40\n",
      "dtype: int64\n",
      "검증용데이터 분포:\n",
      " 0    10\n",
      "1    10\n",
      "2    10\n",
      "dtype: int64\n",
      "학습용데이터 분포:\n",
      " 0    40\n",
      "1    40\n",
      "2    40\n",
      "dtype: int64\n",
      "검증용데이터 분포:\n",
      " 0    10\n",
      "1    10\n",
      "2    10\n",
      "dtype: int64\n",
      "학습용데이터 분포:\n",
      " 0    40\n",
      "1    40\n",
      "2    40\n",
      "dtype: int64\n",
      "검증용데이터 분포:\n",
      " 0    10\n",
      "1    10\n",
      "2    10\n",
      "dtype: int64\n",
      "학습용데이터 분포:\n",
      " 0    40\n",
      "1    40\n",
      "2    40\n",
      "dtype: int64\n",
      "검증용데이터 분포:\n",
      " 0    10\n",
      "1    10\n",
      "2    10\n",
      "dtype: int64\n"
     ]
    }
   ],
   "source": [
    "skfold = StratifiedKFold(n_splits = 5, shuffle = True)             # 셔플을 True로 바꿔봐도 차이는 없다.\n",
    "n_iter = 0\n",
    "cv_accuracy=[]\n",
    "for train_index, test_index in skfold.split(iris.data, iris.target):\n",
    "    X_train, X_test = iris.data[train_index], iris.data[test_index]\n",
    "    y_train,y_test = iris.target[train_index], iris.target[test_index]\n",
    "     #print(type(pd.Series(y_train)))\n",
    "    print('학습용데이터 분포:\\n',pd.Series(y_train).value_counts())\n",
    "    print('검증용데이터 분포:\\n',pd.Series(y_test).value_counts())"
   ]
  },
  {
   "cell_type": "code",
   "execution_count": 109,
   "id": "63e18d26-ff93-4a55-ad80-aa3c63fd7053",
   "metadata": {},
   "outputs": [],
   "source": [
    "from sklearn.tree import DecisionTreeClassifier\n",
    "from sklearn.model_selection import cross_val_score\n",
    "from sklearn.datasets import load_iris"
   ]
  },
  {
   "cell_type": "code",
   "execution_count": 110,
   "id": "b4d88b91-9a92-4ecc-817f-36b2077f63aa",
   "metadata": {},
   "outputs": [],
   "source": [
    "iris_data = load_iris()\n",
    "dt_clf = DecisionTreeClassifier(random_state = 156)"
   ]
  },
  {
   "cell_type": "code",
   "execution_count": 113,
   "id": "b91e43c4-7d00-4298-8466-59de3dc22ece",
   "metadata": {},
   "outputs": [],
   "source": [
    "scores = cross_val_score(dt_clf,\n",
    "                iris_data.data,\n",
    "                iris_data.target,\n",
    "                scoring = 'accuracy',\n",
    "                cv = 3)       # estimater , data , target 순서대로."
   ]
  },
  {
   "cell_type": "code",
   "execution_count": 114,
   "id": "254854cb-7fec-491a-9d75-ffd658c57b8b",
   "metadata": {},
   "outputs": [
    {
     "name": "stdout",
     "output_type": "stream",
     "text": [
      "교차 검증별 정확도 [0.98 0.94 0.98]\n",
      "평균 교차 검증 정확도 0.9666666666666667\n"
     ]
    }
   ],
   "source": [
    "import numpy as np\n",
    "print('교차 검증별 정확도', scores)\n",
    "print('평균 교차 검증 정확도', np.mean(scores))"
   ]
  },
  {
   "cell_type": "code",
   "execution_count": 119,
   "id": "6178e575-7f7a-48b6-95f2-107ec14c6d22",
   "metadata": {},
   "outputs": [],
   "source": [
    "from sklearn.model_selection import GridSearchCV, train_test_split\n",
    "import pandas as pd"
   ]
  },
  {
   "cell_type": "code",
   "execution_count": 116,
   "id": "9706f918-101a-469e-aeec-45ed71445178",
   "metadata": {},
   "outputs": [],
   "source": [
    "grid_param = {'max_depth' :[1,2,3],\n",
    "             'min_samples_split':[2,3]}"
   ]
  },
  {
   "cell_type": "code",
   "execution_count": 117,
   "id": "60a084c1-23ba-4089-a6a8-21db06de3129",
   "metadata": {},
   "outputs": [
    {
     "data": {
      "text/plain": [
       "GridSearchCV(cv=3, estimator=DecisionTreeClassifier(),\n",
       "             param_grid={'max_depth': [1, 2, 3], 'min_samples_split': [2, 3]})"
      ]
     },
     "execution_count": 117,
     "metadata": {},
     "output_type": "execute_result"
    }
   ],
   "source": [
    "iris = load_iris()                                              # GridSearchCV = 내가 원하는 값을 볼때까지, 파라미터를 하나씩 조정해가면서 구하는 것.\n",
    "X_train, X_test, y_train, y_test = train_test_split(iris.data,\n",
    "                                                    iris.target,\n",
    "                                                    test_size=0.2,\n",
    "                                                    random_state=121)\n",
    "dtree = DecisionTreeClassifier()\n",
    "grid_dtree = GridSearchCV(dtree,\n",
    "                          param_grid = grid_param,\n",
    "                          cv=3,\n",
    "                          refit=True)      # refit = 모두 학습을 시키고나서, 최적의 경우로 학습.\n",
    "grid_dtree.fit(X_train,y_train)"
   ]
  },
  {
   "cell_type": "code",
   "execution_count": 118,
   "id": "78f0d384-d179-42fd-922f-38a108933b69",
   "metadata": {
    "collapsed": true,
    "jupyter": {
     "outputs_hidden": true
    },
    "tags": []
   },
   "outputs": [
    {
     "data": {
      "text/plain": [
       "{'mean_fit_time': array([0.00033323, 0.00033466, 0.00033299, 0.00033418, 0.00033196,\n",
       "        0.0003314 ]),\n",
       " 'std_fit_time': array([0.00047126, 0.00047328, 0.00047092, 0.00047261, 0.00046946,\n",
       "        0.00046867]),\n",
       " 'mean_score_time': array([0.00032854, 0.00033498, 0.        , 0.        , 0.        ,\n",
       "        0.00033593]),\n",
       " 'std_score_time': array([0.00046463, 0.00047373, 0.        , 0.        , 0.        ,\n",
       "        0.00047508]),\n",
       " 'param_max_depth': masked_array(data=[1, 1, 2, 2, 3, 3],\n",
       "              mask=[False, False, False, False, False, False],\n",
       "        fill_value='?',\n",
       "             dtype=object),\n",
       " 'param_min_samples_split': masked_array(data=[2, 3, 2, 3, 2, 3],\n",
       "              mask=[False, False, False, False, False, False],\n",
       "        fill_value='?',\n",
       "             dtype=object),\n",
       " 'params': [{'max_depth': 1, 'min_samples_split': 2},\n",
       "  {'max_depth': 1, 'min_samples_split': 3},\n",
       "  {'max_depth': 2, 'min_samples_split': 2},\n",
       "  {'max_depth': 2, 'min_samples_split': 3},\n",
       "  {'max_depth': 3, 'min_samples_split': 2},\n",
       "  {'max_depth': 3, 'min_samples_split': 3}],\n",
       " 'split0_test_score': array([0.7  , 0.7  , 0.925, 0.925, 0.975, 0.975]),\n",
       " 'split1_test_score': array([0.7, 0.7, 1. , 1. , 1. , 1. ]),\n",
       " 'split2_test_score': array([0.7 , 0.7 , 0.95, 0.95, 0.95, 0.95]),\n",
       " 'mean_test_score': array([0.7       , 0.7       , 0.95833333, 0.95833333, 0.975     ,\n",
       "        0.975     ]),\n",
       " 'std_test_score': array([1.11022302e-16, 1.11022302e-16, 3.11804782e-02, 3.11804782e-02,\n",
       "        2.04124145e-02, 2.04124145e-02]),\n",
       " 'rank_test_score': array([5, 5, 3, 3, 1, 1])}"
      ]
     },
     "execution_count": 118,
     "metadata": {},
     "output_type": "execute_result"
    }
   ],
   "source": [
    "grid_dtree.cv_results_"
   ]
  },
  {
   "cell_type": "code",
   "execution_count": 122,
   "id": "86b4edb2-1d29-40ed-baf5-8bfe66326d0f",
   "metadata": {
    "collapsed": true,
    "jupyter": {
     "outputs_hidden": true
    },
    "tags": []
   },
   "outputs": [
    {
     "data": {
      "text/html": [
       "<div>\n",
       "<style scoped>\n",
       "    .dataframe tbody tr th:only-of-type {\n",
       "        vertical-align: middle;\n",
       "    }\n",
       "\n",
       "    .dataframe tbody tr th {\n",
       "        vertical-align: top;\n",
       "    }\n",
       "\n",
       "    .dataframe thead th {\n",
       "        text-align: right;\n",
       "    }\n",
       "</style>\n",
       "<table border=\"1\" class=\"dataframe\">\n",
       "  <thead>\n",
       "    <tr style=\"text-align: right;\">\n",
       "      <th></th>\n",
       "      <th>mean_fit_time</th>\n",
       "      <th>std_fit_time</th>\n",
       "      <th>mean_score_time</th>\n",
       "      <th>std_score_time</th>\n",
       "      <th>param_max_depth</th>\n",
       "      <th>param_min_samples_split</th>\n",
       "      <th>params</th>\n",
       "      <th>split0_test_score</th>\n",
       "      <th>split1_test_score</th>\n",
       "      <th>split2_test_score</th>\n",
       "      <th>mean_test_score</th>\n",
       "      <th>std_test_score</th>\n",
       "      <th>rank_test_score</th>\n",
       "    </tr>\n",
       "  </thead>\n",
       "  <tbody>\n",
       "    <tr>\n",
       "      <th>0</th>\n",
       "      <td>0.000333</td>\n",
       "      <td>0.000471</td>\n",
       "      <td>0.000329</td>\n",
       "      <td>0.000465</td>\n",
       "      <td>1</td>\n",
       "      <td>2</td>\n",
       "      <td>{'max_depth': 1, 'min_samples_split': 2}</td>\n",
       "      <td>0.700</td>\n",
       "      <td>0.7</td>\n",
       "      <td>0.70</td>\n",
       "      <td>0.700000</td>\n",
       "      <td>1.110223e-16</td>\n",
       "      <td>5</td>\n",
       "    </tr>\n",
       "    <tr>\n",
       "      <th>1</th>\n",
       "      <td>0.000335</td>\n",
       "      <td>0.000473</td>\n",
       "      <td>0.000335</td>\n",
       "      <td>0.000474</td>\n",
       "      <td>1</td>\n",
       "      <td>3</td>\n",
       "      <td>{'max_depth': 1, 'min_samples_split': 3}</td>\n",
       "      <td>0.700</td>\n",
       "      <td>0.7</td>\n",
       "      <td>0.70</td>\n",
       "      <td>0.700000</td>\n",
       "      <td>1.110223e-16</td>\n",
       "      <td>5</td>\n",
       "    </tr>\n",
       "    <tr>\n",
       "      <th>2</th>\n",
       "      <td>0.000333</td>\n",
       "      <td>0.000471</td>\n",
       "      <td>0.000000</td>\n",
       "      <td>0.000000</td>\n",
       "      <td>2</td>\n",
       "      <td>2</td>\n",
       "      <td>{'max_depth': 2, 'min_samples_split': 2}</td>\n",
       "      <td>0.925</td>\n",
       "      <td>1.0</td>\n",
       "      <td>0.95</td>\n",
       "      <td>0.958333</td>\n",
       "      <td>3.118048e-02</td>\n",
       "      <td>3</td>\n",
       "    </tr>\n",
       "    <tr>\n",
       "      <th>3</th>\n",
       "      <td>0.000334</td>\n",
       "      <td>0.000473</td>\n",
       "      <td>0.000000</td>\n",
       "      <td>0.000000</td>\n",
       "      <td>2</td>\n",
       "      <td>3</td>\n",
       "      <td>{'max_depth': 2, 'min_samples_split': 3}</td>\n",
       "      <td>0.925</td>\n",
       "      <td>1.0</td>\n",
       "      <td>0.95</td>\n",
       "      <td>0.958333</td>\n",
       "      <td>3.118048e-02</td>\n",
       "      <td>3</td>\n",
       "    </tr>\n",
       "    <tr>\n",
       "      <th>4</th>\n",
       "      <td>0.000332</td>\n",
       "      <td>0.000469</td>\n",
       "      <td>0.000000</td>\n",
       "      <td>0.000000</td>\n",
       "      <td>3</td>\n",
       "      <td>2</td>\n",
       "      <td>{'max_depth': 3, 'min_samples_split': 2}</td>\n",
       "      <td>0.975</td>\n",
       "      <td>1.0</td>\n",
       "      <td>0.95</td>\n",
       "      <td>0.975000</td>\n",
       "      <td>2.041241e-02</td>\n",
       "      <td>1</td>\n",
       "    </tr>\n",
       "    <tr>\n",
       "      <th>5</th>\n",
       "      <td>0.000331</td>\n",
       "      <td>0.000469</td>\n",
       "      <td>0.000336</td>\n",
       "      <td>0.000475</td>\n",
       "      <td>3</td>\n",
       "      <td>3</td>\n",
       "      <td>{'max_depth': 3, 'min_samples_split': 3}</td>\n",
       "      <td>0.975</td>\n",
       "      <td>1.0</td>\n",
       "      <td>0.95</td>\n",
       "      <td>0.975000</td>\n",
       "      <td>2.041241e-02</td>\n",
       "      <td>1</td>\n",
       "    </tr>\n",
       "  </tbody>\n",
       "</table>\n",
       "</div>"
      ],
      "text/plain": [
       "   mean_fit_time  std_fit_time  mean_score_time  std_score_time  \\\n",
       "0       0.000333      0.000471         0.000329        0.000465   \n",
       "1       0.000335      0.000473         0.000335        0.000474   \n",
       "2       0.000333      0.000471         0.000000        0.000000   \n",
       "3       0.000334      0.000473         0.000000        0.000000   \n",
       "4       0.000332      0.000469         0.000000        0.000000   \n",
       "5       0.000331      0.000469         0.000336        0.000475   \n",
       "\n",
       "  param_max_depth param_min_samples_split  \\\n",
       "0               1                       2   \n",
       "1               1                       3   \n",
       "2               2                       2   \n",
       "3               2                       3   \n",
       "4               3                       2   \n",
       "5               3                       3   \n",
       "\n",
       "                                     params  split0_test_score  \\\n",
       "0  {'max_depth': 1, 'min_samples_split': 2}              0.700   \n",
       "1  {'max_depth': 1, 'min_samples_split': 3}              0.700   \n",
       "2  {'max_depth': 2, 'min_samples_split': 2}              0.925   \n",
       "3  {'max_depth': 2, 'min_samples_split': 3}              0.925   \n",
       "4  {'max_depth': 3, 'min_samples_split': 2}              0.975   \n",
       "5  {'max_depth': 3, 'min_samples_split': 3}              0.975   \n",
       "\n",
       "   split1_test_score  split2_test_score  mean_test_score  std_test_score  \\\n",
       "0                0.7               0.70         0.700000    1.110223e-16   \n",
       "1                0.7               0.70         0.700000    1.110223e-16   \n",
       "2                1.0               0.95         0.958333    3.118048e-02   \n",
       "3                1.0               0.95         0.958333    3.118048e-02   \n",
       "4                1.0               0.95         0.975000    2.041241e-02   \n",
       "5                1.0               0.95         0.975000    2.041241e-02   \n",
       "\n",
       "   rank_test_score  \n",
       "0                5  \n",
       "1                5  \n",
       "2                3  \n",
       "3                3  \n",
       "4                1  \n",
       "5                1  "
      ]
     },
     "execution_count": 122,
     "metadata": {},
     "output_type": "execute_result"
    }
   ],
   "source": [
    "scores_df = pd.DataFrame(grid_dtree.cv_results_)\n",
    "scores_df"
   ]
  },
  {
   "cell_type": "code",
   "execution_count": 123,
   "id": "56ed56cc-c999-4b5a-8156-9019857c1f79",
   "metadata": {
    "collapsed": true,
    "jupyter": {
     "outputs_hidden": true
    },
    "tags": []
   },
   "outputs": [
    {
     "data": {
      "text/plain": [
       "Index(['mean_fit_time', 'std_fit_time', 'mean_score_time', 'std_score_time',\n",
       "       'param_max_depth', 'param_min_samples_split', 'params',\n",
       "       'split0_test_score', 'split1_test_score', 'split2_test_score',\n",
       "       'mean_test_score', 'std_test_score', 'rank_test_score'],\n",
       "      dtype='object')"
      ]
     },
     "execution_count": 123,
     "metadata": {},
     "output_type": "execute_result"
    }
   ],
   "source": [
    "scores_df.columns"
   ]
  },
  {
   "cell_type": "code",
   "execution_count": 124,
   "id": "075ec254-646b-44d5-a2ec-e9594265c86a",
   "metadata": {},
   "outputs": [
    {
     "data": {
      "text/html": [
       "<div>\n",
       "<style scoped>\n",
       "    .dataframe tbody tr th:only-of-type {\n",
       "        vertical-align: middle;\n",
       "    }\n",
       "\n",
       "    .dataframe tbody tr th {\n",
       "        vertical-align: top;\n",
       "    }\n",
       "\n",
       "    .dataframe thead th {\n",
       "        text-align: right;\n",
       "    }\n",
       "</style>\n",
       "<table border=\"1\" class=\"dataframe\">\n",
       "  <thead>\n",
       "    <tr style=\"text-align: right;\">\n",
       "      <th></th>\n",
       "      <th>params</th>\n",
       "      <th>mean_test_score</th>\n",
       "      <th>rank_test_score</th>\n",
       "      <th>split0_test_score</th>\n",
       "      <th>split1_test_score</th>\n",
       "      <th>split2_test_score</th>\n",
       "    </tr>\n",
       "  </thead>\n",
       "  <tbody>\n",
       "    <tr>\n",
       "      <th>0</th>\n",
       "      <td>{'max_depth': 1, 'min_samples_split': 2}</td>\n",
       "      <td>0.700000</td>\n",
       "      <td>5</td>\n",
       "      <td>0.700</td>\n",
       "      <td>0.7</td>\n",
       "      <td>0.70</td>\n",
       "    </tr>\n",
       "    <tr>\n",
       "      <th>1</th>\n",
       "      <td>{'max_depth': 1, 'min_samples_split': 3}</td>\n",
       "      <td>0.700000</td>\n",
       "      <td>5</td>\n",
       "      <td>0.700</td>\n",
       "      <td>0.7</td>\n",
       "      <td>0.70</td>\n",
       "    </tr>\n",
       "    <tr>\n",
       "      <th>2</th>\n",
       "      <td>{'max_depth': 2, 'min_samples_split': 2}</td>\n",
       "      <td>0.958333</td>\n",
       "      <td>3</td>\n",
       "      <td>0.925</td>\n",
       "      <td>1.0</td>\n",
       "      <td>0.95</td>\n",
       "    </tr>\n",
       "    <tr>\n",
       "      <th>3</th>\n",
       "      <td>{'max_depth': 2, 'min_samples_split': 3}</td>\n",
       "      <td>0.958333</td>\n",
       "      <td>3</td>\n",
       "      <td>0.925</td>\n",
       "      <td>1.0</td>\n",
       "      <td>0.95</td>\n",
       "    </tr>\n",
       "    <tr>\n",
       "      <th>4</th>\n",
       "      <td>{'max_depth': 3, 'min_samples_split': 2}</td>\n",
       "      <td>0.975000</td>\n",
       "      <td>1</td>\n",
       "      <td>0.975</td>\n",
       "      <td>1.0</td>\n",
       "      <td>0.95</td>\n",
       "    </tr>\n",
       "    <tr>\n",
       "      <th>5</th>\n",
       "      <td>{'max_depth': 3, 'min_samples_split': 3}</td>\n",
       "      <td>0.975000</td>\n",
       "      <td>1</td>\n",
       "      <td>0.975</td>\n",
       "      <td>1.0</td>\n",
       "      <td>0.95</td>\n",
       "    </tr>\n",
       "  </tbody>\n",
       "</table>\n",
       "</div>"
      ],
      "text/plain": [
       "                                     params  mean_test_score  rank_test_score  \\\n",
       "0  {'max_depth': 1, 'min_samples_split': 2}         0.700000                5   \n",
       "1  {'max_depth': 1, 'min_samples_split': 3}         0.700000                5   \n",
       "2  {'max_depth': 2, 'min_samples_split': 2}         0.958333                3   \n",
       "3  {'max_depth': 2, 'min_samples_split': 3}         0.958333                3   \n",
       "4  {'max_depth': 3, 'min_samples_split': 2}         0.975000                1   \n",
       "5  {'max_depth': 3, 'min_samples_split': 3}         0.975000                1   \n",
       "\n",
       "   split0_test_score  split1_test_score  split2_test_score  \n",
       "0              0.700                0.7               0.70  \n",
       "1              0.700                0.7               0.70  \n",
       "2              0.925                1.0               0.95  \n",
       "3              0.925                1.0               0.95  \n",
       "4              0.975                1.0               0.95  \n",
       "5              0.975                1.0               0.95  "
      ]
     },
     "execution_count": 124,
     "metadata": {},
     "output_type": "execute_result"
    }
   ],
   "source": [
    "scores_df[['params',\n",
    "           'mean_test_score',\n",
    "           'rank_test_score',\n",
    "           'split0_test_score',\n",
    "           'split1_test_score',\n",
    "           'split2_test_score'\n",
    "           ]]"
   ]
  },
  {
   "cell_type": "code",
   "execution_count": 125,
   "id": "f5a143fa-97a4-44b2-a78a-a2c375034bbf",
   "metadata": {},
   "outputs": [
    {
     "data": {
      "text/plain": [
       "0.975"
      ]
     },
     "execution_count": 125,
     "metadata": {},
     "output_type": "execute_result"
    }
   ],
   "source": [
    "grid_dtree.best_score_"
   ]
  },
  {
   "cell_type": "code",
   "execution_count": 126,
   "id": "398e2b3b-30fc-4452-808f-0c07fd753293",
   "metadata": {},
   "outputs": [
    {
     "data": {
      "text/plain": [
       "4"
      ]
     },
     "execution_count": 126,
     "metadata": {},
     "output_type": "execute_result"
    }
   ],
   "source": [
    "grid_dtree.best_index_"
   ]
  },
  {
   "cell_type": "code",
   "execution_count": 129,
   "id": "0aad69f8-aa2d-461d-bcff-a3ee0e4aae22",
   "metadata": {},
   "outputs": [],
   "source": [
    "pred = grid_dtree.best_estimator_.predict(X_test)"
   ]
  },
  {
   "cell_type": "code",
   "execution_count": 130,
   "id": "48164cdd-aeef-498a-8680-4db6c5bd91ba",
   "metadata": {},
   "outputs": [],
   "source": [
    "from sklearn.metrics import accuracy_score"
   ]
  },
  {
   "cell_type": "code",
   "execution_count": 131,
   "id": "2faf6826-001d-4e7c-a782-9822f18d2a91",
   "metadata": {},
   "outputs": [
    {
     "name": "stdout",
     "output_type": "stream",
     "text": [
      "best estimator 정확도 0.9666666666666667\n"
     ]
    }
   ],
   "source": [
    "print('best estimator 정확도', accuracy_score(y_test,pred))"
   ]
  },
  {
   "cell_type": "code",
   "execution_count": 132,
   "id": "16b0f4f3-2b43-49d4-a673-874012110ec3",
   "metadata": {},
   "outputs": [],
   "source": [
    "from sklearn.preprocessing import LabelEncoder"
   ]
  },
  {
   "cell_type": "code",
   "execution_count": 133,
   "id": "ef4d50fa-325d-49ad-9e48-3399a20d69ee",
   "metadata": {},
   "outputs": [],
   "source": [
    "items = ['TV', '냉장고', ' 전자레인지', '컴퓨터', '선풍기', '선풍기', '믹서', '믹서']"
   ]
  },
  {
   "cell_type": "code",
   "execution_count": 135,
   "id": "df2c426f-b5b6-4688-8a54-f350f3fc3e2b",
   "metadata": {},
   "outputs": [],
   "source": [
    "encoder = LabelEncoder()\n",
    "encoder.fit(items) # 정보를 수집해서, 중복 빼고, 숫자를 붙여주는 작업.\n",
    "labels = encoder.transform(items)"
   ]
  },
  {
   "cell_type": "code",
   "execution_count": 138,
   "id": "fcc557dd-c7b0-4656-9992-2ddec8e28473",
   "metadata": {},
   "outputs": [
    {
     "data": {
      "text/plain": [
       "array([1, 2, 0, 5, 4, 4, 3, 3])"
      ]
     },
     "execution_count": 138,
     "metadata": {},
     "output_type": "execute_result"
    }
   ],
   "source": [
    "labels"
   ]
  },
  {
   "cell_type": "code",
   "execution_count": 139,
   "id": "853dab98-b331-4e45-afe3-10fe08601b32",
   "metadata": {},
   "outputs": [
    {
     "data": {
      "text/plain": [
       "array([' 전자레인지', 'TV', '냉장고', '믹서', '선풍기', '컴퓨터'], dtype='<U6')"
      ]
     },
     "execution_count": 139,
     "metadata": {},
     "output_type": "execute_result"
    }
   ],
   "source": [
    "encoder.classes_"
   ]
  },
  {
   "cell_type": "code",
   "execution_count": 140,
   "id": "7c89b03a-9a35-40d7-ad65-1563451a596d",
   "metadata": {},
   "outputs": [
    {
     "data": {
      "text/plain": [
       "array(['TV', '냉장고', ' 전자레인지', '컴퓨터', '선풍기', '선풍기', '믹서', '믹서'],\n",
       "      dtype='<U6')"
      ]
     },
     "execution_count": 140,
     "metadata": {},
     "output_type": "execute_result"
    }
   ],
   "source": [
    "encoder.inverse_transform(labels)"
   ]
  },
  {
   "cell_type": "code",
   "execution_count": 141,
   "id": "57b784b6-888b-44df-b635-3179ffb780b0",
   "metadata": {},
   "outputs": [],
   "source": [
    "from sklearn.preprocessing import OneHotEncoder"
   ]
  },
  {
   "cell_type": "code",
   "execution_count": 142,
   "id": "d82cb228-b4a9-4867-8a71-83e5d25c4227",
   "metadata": {},
   "outputs": [],
   "source": [
    "items = ['TV', '냉장고', ' 전자레인지', '컴퓨터', '선풍기', '선풍기', '믹서', '믹서']"
   ]
  },
  {
   "cell_type": "code",
   "execution_count": 143,
   "id": "97218c04-f05a-41cf-9005-aa9c9c2aff6b",
   "metadata": {},
   "outputs": [
    {
     "data": {
      "text/plain": [
       "array([1, 2, 0, 5, 4, 4, 3, 3])"
      ]
     },
     "execution_count": 143,
     "metadata": {},
     "output_type": "execute_result"
    }
   ],
   "source": [
    "encoder = LabelEncoder()\n",
    "encoder.fit_transform(items)\n",
    "labels"
   ]
  },
  {
   "cell_type": "code",
   "execution_count": 146,
   "id": "2961df63-5631-4f6e-bd40-abe2e602e172",
   "metadata": {},
   "outputs": [
    {
     "data": {
      "text/plain": [
       "(8, 1)"
      ]
     },
     "execution_count": 146,
     "metadata": {},
     "output_type": "execute_result"
    }
   ],
   "source": [
    "labels = labels.reshape(-1, 1)\n",
    "labels.shape"
   ]
  },
  {
   "cell_type": "code",
   "execution_count": 163,
   "id": "f895987b-7847-4819-ab84-abcf40bcee91",
   "metadata": {},
   "outputs": [],
   "source": [
    "oh_encoder = OneHotEncoder(sparse=True)\n",
    "oh_labels = oh_encoder.fit_transform(labels)"
   ]
  },
  {
   "cell_type": "code",
   "execution_count": 164,
   "id": "4e6af5fe-8c08-4cc7-9d88-216d9ecbbc9c",
   "metadata": {},
   "outputs": [
    {
     "data": {
      "text/plain": [
       "[array([0, 1, 2, 3, 4, 5])]"
      ]
     },
     "execution_count": 164,
     "metadata": {},
     "output_type": "execute_result"
    }
   ],
   "source": [
    "oh_encoder.categories_"
   ]
  },
  {
   "cell_type": "code",
   "execution_count": 165,
   "id": "551d36d5-dc2f-4387-8e0c-3b39b6d5de21",
   "metadata": {},
   "outputs": [
    {
     "data": {
      "text/plain": [
       "True"
      ]
     },
     "execution_count": 165,
     "metadata": {},
     "output_type": "execute_result"
    }
   ],
   "source": [
    "oh_encoder.sparse"
   ]
  },
  {
   "cell_type": "code",
   "execution_count": 166,
   "id": "77ccd0bd-7afb-4cc6-a1d5-d5cbd3104dad",
   "metadata": {},
   "outputs": [
    {
     "data": {
      "text/plain": [
       "OneHotEncoder()"
      ]
     },
     "execution_count": 166,
     "metadata": {},
     "output_type": "execute_result"
    }
   ],
   "source": [
    "oh_encoder"
   ]
  },
  {
   "cell_type": "code",
   "execution_count": 170,
   "id": "685c10cc-5a9d-4489-8635-965bb56bdec3",
   "metadata": {
    "collapsed": true,
    "jupyter": {
     "outputs_hidden": true
    },
    "tags": []
   },
   "outputs": [
    {
     "data": {
      "text/plain": [
       "array([[0., 1., 0., 0., 0., 0.],\n",
       "       [0., 0., 1., 0., 0., 0.],\n",
       "       [1., 0., 0., 0., 0., 0.],\n",
       "       [0., 0., 0., 0., 0., 1.],\n",
       "       [0., 0., 0., 0., 1., 0.],\n",
       "       [0., 0., 0., 0., 1., 0.],\n",
       "       [0., 0., 0., 1., 0., 0.],\n",
       "       [0., 0., 0., 1., 0., 0.]])"
      ]
     },
     "execution_count": 170,
     "metadata": {},
     "output_type": "execute_result"
    }
   ],
   "source": [
    "oh_labels.toarray()"
   ]
  },
  {
   "cell_type": "code",
   "execution_count": 172,
   "id": "1d176d8e-f90f-4cc1-8aca-f812856ddd0a",
   "metadata": {},
   "outputs": [],
   "source": [
    "df = pd.DataFrame({'item':['TV', '냉장고', ' 전자레인지', '컴퓨터', '선풍기', '선풍기', '믹서', '믹서']})"
   ]
  },
  {
   "cell_type": "code",
   "execution_count": 173,
   "id": "efb237ac-11c1-4bb2-a22f-ff5a745a2965",
   "metadata": {
    "collapsed": true,
    "jupyter": {
     "outputs_hidden": true
    },
    "tags": []
   },
   "outputs": [
    {
     "data": {
      "text/html": [
       "<div>\n",
       "<style scoped>\n",
       "    .dataframe tbody tr th:only-of-type {\n",
       "        vertical-align: middle;\n",
       "    }\n",
       "\n",
       "    .dataframe tbody tr th {\n",
       "        vertical-align: top;\n",
       "    }\n",
       "\n",
       "    .dataframe thead th {\n",
       "        text-align: right;\n",
       "    }\n",
       "</style>\n",
       "<table border=\"1\" class=\"dataframe\">\n",
       "  <thead>\n",
       "    <tr style=\"text-align: right;\">\n",
       "      <th></th>\n",
       "      <th>item</th>\n",
       "    </tr>\n",
       "  </thead>\n",
       "  <tbody>\n",
       "    <tr>\n",
       "      <th>0</th>\n",
       "      <td>TV</td>\n",
       "    </tr>\n",
       "    <tr>\n",
       "      <th>1</th>\n",
       "      <td>냉장고</td>\n",
       "    </tr>\n",
       "    <tr>\n",
       "      <th>2</th>\n",
       "      <td>전자레인지</td>\n",
       "    </tr>\n",
       "    <tr>\n",
       "      <th>3</th>\n",
       "      <td>컴퓨터</td>\n",
       "    </tr>\n",
       "    <tr>\n",
       "      <th>4</th>\n",
       "      <td>선풍기</td>\n",
       "    </tr>\n",
       "    <tr>\n",
       "      <th>5</th>\n",
       "      <td>선풍기</td>\n",
       "    </tr>\n",
       "    <tr>\n",
       "      <th>6</th>\n",
       "      <td>믹서</td>\n",
       "    </tr>\n",
       "    <tr>\n",
       "      <th>7</th>\n",
       "      <td>믹서</td>\n",
       "    </tr>\n",
       "  </tbody>\n",
       "</table>\n",
       "</div>"
      ],
      "text/plain": [
       "     item\n",
       "0      TV\n",
       "1     냉장고\n",
       "2   전자레인지\n",
       "3     컴퓨터\n",
       "4     선풍기\n",
       "5     선풍기\n",
       "6      믹서\n",
       "7      믹서"
      ]
     },
     "execution_count": 173,
     "metadata": {},
     "output_type": "execute_result"
    }
   ],
   "source": [
    "df"
   ]
  },
  {
   "cell_type": "code",
   "execution_count": 177,
   "id": "ebfe9315-fbc7-4d7a-81ea-43ce637b037e",
   "metadata": {
    "collapsed": true,
    "jupyter": {
     "outputs_hidden": true
    },
    "tags": []
   },
   "outputs": [
    {
     "data": {
      "text/plain": [
       "array([[0, 1, 0, 0, 0, 0],\n",
       "       [0, 0, 1, 0, 0, 0],\n",
       "       [1, 0, 0, 0, 0, 0],\n",
       "       [0, 0, 0, 0, 0, 1],\n",
       "       [0, 0, 0, 0, 1, 0],\n",
       "       [0, 0, 0, 0, 1, 0],\n",
       "       [0, 0, 0, 1, 0, 0],\n",
       "       [0, 0, 0, 1, 0, 0]], dtype=uint8)"
      ]
     },
     "execution_count": 177,
     "metadata": {},
     "output_type": "execute_result"
    }
   ],
   "source": [
    "pd.get_dummies(df).values"
   ]
  },
  {
   "cell_type": "code",
   "execution_count": null,
   "id": "e1ba08d2-0dcd-40eb-b170-65aeebef215a",
   "metadata": {},
   "outputs": [],
   "source": []
  }
 ],
 "metadata": {
  "kernelspec": {
   "display_name": "Python 3 (ipykernel)",
   "language": "python",
   "name": "python3"
  },
  "language_info": {
   "codemirror_mode": {
    "name": "ipython",
    "version": 3
   },
   "file_extension": ".py",
   "mimetype": "text/x-python",
   "name": "python",
   "nbconvert_exporter": "python",
   "pygments_lexer": "ipython3",
   "version": "3.9.7"
  }
 },
 "nbformat": 4,
 "nbformat_minor": 5
}
